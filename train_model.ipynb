{
  "nbformat": 4,
  "nbformat_minor": 0,
  "metadata": {
    "colab": {
      "provenance": []
    },
    "kernelspec": {
      "name": "python3",
      "display_name": "Python 3"
    },
    "language_info": {
      "name": "python"
    },
    "accelerator": "GPU",
    "gpuClass": "standard"
  },
  "cells": [
    {
      "cell_type": "markdown",
      "source": [
        "##### 0. Setup Colab and Google-Drive."
      ],
      "metadata": {
        "id": "9psPs8xEcGTu"
      }
    },
    {
      "cell_type": "code",
      "execution_count": 1,
      "metadata": {
        "colab": {
          "base_uri": "https://localhost:8080/"
        },
        "id": "tiGd6Dr_b7rD",
        "outputId": "9c760e78-cd26-4a6d-ff41-ec48b1b4334c"
      },
      "outputs": [
        {
          "output_type": "stream",
          "name": "stdout",
          "text": [
            "/content/drive/MyDrive/Computer Vision/Instance Segmentation\n"
          ]
        }
      ],
      "source": [
        "%cd /content/drive/MyDrive/Computer\\ Vision/Instance\\ Segmentation"
      ]
    },
    {
      "cell_type": "markdown",
      "source": [
        "##### 1. Setup for downloading dataset from kaggle."
      ],
      "metadata": {
        "id": "60m8HZVbcp2f"
      }
    },
    {
      "cell_type": "code",
      "source": [
        "from google.colab import files\n",
        "files.upload() \n",
        "\n",
        "!pip install -q kaggle\n",
        "!mkdir -p ~/.kaggle\n",
        "!cp kaggle.json ~/.kaggle/\n",
        "\n",
        "!chmod 600 /root/.kaggle/kaggle.json"
      ],
      "metadata": {
        "colab": {
          "base_uri": "https://localhost:8080/",
          "height": 73
        },
        "id": "3JjK-AWbclXC",
        "outputId": "75285c5d-3f24-4bbc-aafd-975abd976b4a"
      },
      "execution_count": 2,
      "outputs": [
        {
          "output_type": "display_data",
          "data": {
            "text/plain": [
              "<IPython.core.display.HTML object>"
            ],
            "text/html": [
              "\n",
              "     <input type=\"file\" id=\"files-8a1ca70a-6ae3-498e-a913-f270a61cf496\" name=\"files[]\" multiple disabled\n",
              "        style=\"border:none\" />\n",
              "     <output id=\"result-8a1ca70a-6ae3-498e-a913-f270a61cf496\">\n",
              "      Upload widget is only available when the cell has been executed in the\n",
              "      current browser session. Please rerun this cell to enable.\n",
              "      </output>\n",
              "      <script>// Copyright 2017 Google LLC\n",
              "//\n",
              "// Licensed under the Apache License, Version 2.0 (the \"License\");\n",
              "// you may not use this file except in compliance with the License.\n",
              "// You may obtain a copy of the License at\n",
              "//\n",
              "//      http://www.apache.org/licenses/LICENSE-2.0\n",
              "//\n",
              "// Unless required by applicable law or agreed to in writing, software\n",
              "// distributed under the License is distributed on an \"AS IS\" BASIS,\n",
              "// WITHOUT WARRANTIES OR CONDITIONS OF ANY KIND, either express or implied.\n",
              "// See the License for the specific language governing permissions and\n",
              "// limitations under the License.\n",
              "\n",
              "/**\n",
              " * @fileoverview Helpers for google.colab Python module.\n",
              " */\n",
              "(function(scope) {\n",
              "function span(text, styleAttributes = {}) {\n",
              "  const element = document.createElement('span');\n",
              "  element.textContent = text;\n",
              "  for (const key of Object.keys(styleAttributes)) {\n",
              "    element.style[key] = styleAttributes[key];\n",
              "  }\n",
              "  return element;\n",
              "}\n",
              "\n",
              "// Max number of bytes which will be uploaded at a time.\n",
              "const MAX_PAYLOAD_SIZE = 100 * 1024;\n",
              "\n",
              "function _uploadFiles(inputId, outputId) {\n",
              "  const steps = uploadFilesStep(inputId, outputId);\n",
              "  const outputElement = document.getElementById(outputId);\n",
              "  // Cache steps on the outputElement to make it available for the next call\n",
              "  // to uploadFilesContinue from Python.\n",
              "  outputElement.steps = steps;\n",
              "\n",
              "  return _uploadFilesContinue(outputId);\n",
              "}\n",
              "\n",
              "// This is roughly an async generator (not supported in the browser yet),\n",
              "// where there are multiple asynchronous steps and the Python side is going\n",
              "// to poll for completion of each step.\n",
              "// This uses a Promise to block the python side on completion of each step,\n",
              "// then passes the result of the previous step as the input to the next step.\n",
              "function _uploadFilesContinue(outputId) {\n",
              "  const outputElement = document.getElementById(outputId);\n",
              "  const steps = outputElement.steps;\n",
              "\n",
              "  const next = steps.next(outputElement.lastPromiseValue);\n",
              "  return Promise.resolve(next.value.promise).then((value) => {\n",
              "    // Cache the last promise value to make it available to the next\n",
              "    // step of the generator.\n",
              "    outputElement.lastPromiseValue = value;\n",
              "    return next.value.response;\n",
              "  });\n",
              "}\n",
              "\n",
              "/**\n",
              " * Generator function which is called between each async step of the upload\n",
              " * process.\n",
              " * @param {string} inputId Element ID of the input file picker element.\n",
              " * @param {string} outputId Element ID of the output display.\n",
              " * @return {!Iterable<!Object>} Iterable of next steps.\n",
              " */\n",
              "function* uploadFilesStep(inputId, outputId) {\n",
              "  const inputElement = document.getElementById(inputId);\n",
              "  inputElement.disabled = false;\n",
              "\n",
              "  const outputElement = document.getElementById(outputId);\n",
              "  outputElement.innerHTML = '';\n",
              "\n",
              "  const pickedPromise = new Promise((resolve) => {\n",
              "    inputElement.addEventListener('change', (e) => {\n",
              "      resolve(e.target.files);\n",
              "    });\n",
              "  });\n",
              "\n",
              "  const cancel = document.createElement('button');\n",
              "  inputElement.parentElement.appendChild(cancel);\n",
              "  cancel.textContent = 'Cancel upload';\n",
              "  const cancelPromise = new Promise((resolve) => {\n",
              "    cancel.onclick = () => {\n",
              "      resolve(null);\n",
              "    };\n",
              "  });\n",
              "\n",
              "  // Wait for the user to pick the files.\n",
              "  const files = yield {\n",
              "    promise: Promise.race([pickedPromise, cancelPromise]),\n",
              "    response: {\n",
              "      action: 'starting',\n",
              "    }\n",
              "  };\n",
              "\n",
              "  cancel.remove();\n",
              "\n",
              "  // Disable the input element since further picks are not allowed.\n",
              "  inputElement.disabled = true;\n",
              "\n",
              "  if (!files) {\n",
              "    return {\n",
              "      response: {\n",
              "        action: 'complete',\n",
              "      }\n",
              "    };\n",
              "  }\n",
              "\n",
              "  for (const file of files) {\n",
              "    const li = document.createElement('li');\n",
              "    li.append(span(file.name, {fontWeight: 'bold'}));\n",
              "    li.append(span(\n",
              "        `(${file.type || 'n/a'}) - ${file.size} bytes, ` +\n",
              "        `last modified: ${\n",
              "            file.lastModifiedDate ? file.lastModifiedDate.toLocaleDateString() :\n",
              "                                    'n/a'} - `));\n",
              "    const percent = span('0% done');\n",
              "    li.appendChild(percent);\n",
              "\n",
              "    outputElement.appendChild(li);\n",
              "\n",
              "    const fileDataPromise = new Promise((resolve) => {\n",
              "      const reader = new FileReader();\n",
              "      reader.onload = (e) => {\n",
              "        resolve(e.target.result);\n",
              "      };\n",
              "      reader.readAsArrayBuffer(file);\n",
              "    });\n",
              "    // Wait for the data to be ready.\n",
              "    let fileData = yield {\n",
              "      promise: fileDataPromise,\n",
              "      response: {\n",
              "        action: 'continue',\n",
              "      }\n",
              "    };\n",
              "\n",
              "    // Use a chunked sending to avoid message size limits. See b/62115660.\n",
              "    let position = 0;\n",
              "    do {\n",
              "      const length = Math.min(fileData.byteLength - position, MAX_PAYLOAD_SIZE);\n",
              "      const chunk = new Uint8Array(fileData, position, length);\n",
              "      position += length;\n",
              "\n",
              "      const base64 = btoa(String.fromCharCode.apply(null, chunk));\n",
              "      yield {\n",
              "        response: {\n",
              "          action: 'append',\n",
              "          file: file.name,\n",
              "          data: base64,\n",
              "        },\n",
              "      };\n",
              "\n",
              "      let percentDone = fileData.byteLength === 0 ?\n",
              "          100 :\n",
              "          Math.round((position / fileData.byteLength) * 100);\n",
              "      percent.textContent = `${percentDone}% done`;\n",
              "\n",
              "    } while (position < fileData.byteLength);\n",
              "  }\n",
              "\n",
              "  // All done.\n",
              "  yield {\n",
              "    response: {\n",
              "      action: 'complete',\n",
              "    }\n",
              "  };\n",
              "}\n",
              "\n",
              "scope.google = scope.google || {};\n",
              "scope.google.colab = scope.google.colab || {};\n",
              "scope.google.colab._files = {\n",
              "  _uploadFiles,\n",
              "  _uploadFilesContinue,\n",
              "};\n",
              "})(self);\n",
              "</script> "
            ]
          },
          "metadata": {}
        },
        {
          "output_type": "stream",
          "name": "stdout",
          "text": [
            "Saving kaggle.json to kaggle.json\n"
          ]
        }
      ]
    },
    {
      "cell_type": "code",
      "source": [
        "# search for dataset in kaggle.\n",
        "!kaggle datasets list -s \"COVID-19 Radiography Database\""
      ],
      "metadata": {
        "colab": {
          "base_uri": "https://localhost:8080/"
        },
        "id": "4-Osmse-c4Nc",
        "outputId": "1de4c62a-0a63-4aba-b5a8-968fca10f7f1"
      },
      "execution_count": 3,
      "outputs": [
        {
          "output_type": "stream",
          "name": "stdout",
          "text": [
            "ref                                                           title                                              size  lastUpdated          downloadCount  voteCount  usabilityRating  \n",
            "------------------------------------------------------------  ------------------------------------------------  -----  -------------------  -------------  ---------  ---------------  \n",
            "tawsifurrahman/covid19-radiography-database                   COVID-19 Radiography Database                     778MB  2022-03-19 13:38:42          59721        790  1.0              \n",
            "andyczhao/covidx-cxr2                                         COVIDx CXR-2                                       13GB  2022-06-02 13:22:23           6381        156  0.875            \n",
            "anasmohammedtahir/covidqu                                     COVID-QU-Ex Dataset                                 1GB  2022-02-01 06:23:01           2159         45  0.6875           \n",
            "mloey1/covid19-chest-ct-image-augmentation-gan-dataset        COVID-19 Chest CT image Augmentation GAN Dataset    2GB  2021-01-31 19:56:33            469         15  0.625            \n",
            "mloey1/medical-face-mask-detection-dataset                    COVID-19 Medical Face Mask Detection Dataset      535MB  2021-02-14 19:34:25           1267         26  0.75             \n",
            "ahmadalmahsiri/covid19-radiography-database                   COVID-19 Radiography Database                     541MB  2021-10-23 22:05:47            242          2  0.4375           \n",
            "preetviradiya/covid19-radiography-dataset                     COVID-19 Radiography Dataset                      747MB  2021-05-22 05:04:10           3652         64  1.0              \n",
            "gibi13/pneumonia-covid19-image-dataset                        Pneumonia & COVID-19 Image Dataset                  1GB  2021-02-01 14:49:48            452          9  0.75             \n",
            "nourmahmoud/covid19-digital-xrays-forgery-dataset             COVID-19 Digital X-rays Forgery Dataset           565MB  2023-01-09 11:04:55             20          6  0.625            \n",
            "aysendegerli/qatacov19-dataset                                QaTa-COV19 Dataset                                  5GB  2022-02-22 11:03:13            814         32  0.625            \n",
            "subhankarsen/novel-covid19-chestxray-repository               Novel COVID-19 Chestxray Repository                 1GB  2021-07-07 08:58:21            169          6  0.8125           \n",
            "shreyanshgupta/covid19-xray-dataset-with-preprocessed-images  COVID-19 X-Ray Dataset With Preprocessed Images     2GB  2020-07-10 08:41:04            191          2  0.8125           \n",
            "zainaali/covid2019-dataset-with-chest-xray-images             COVID-2019 Dataset with Chest X-Ray Images        288MB  2020-08-05 19:03:03            233          5  0.6875           \n",
            "ericspod/project-monai-2020-bootcamp-challenge-dataset        Project MONAI 2020 Bootcamp Challenge Dataset     481MB  2021-01-25 01:11:42             24          2  0.6875           \n",
            "aravindlade/xray-binary-covid                                 xray_binary_covid                                   1GB  2022-02-08 11:56:20              3          1  0.3125           \n",
            "abhishekkumar273/dataset                                      Dataset                                             1GB  2021-04-07 12:45:14              2          1  0.125            \n",
            "irtisam06/covid19                                             COVID-19                                            1GB  2021-10-04 11:17:12              1          1  0.125            \n"
          ]
        }
      ]
    },
    {
      "cell_type": "markdown",
      "source": [
        "##### 2. Download dataset from kaggle."
      ],
      "metadata": {
        "id": "zwp4Cmz8dH_o"
      }
    },
    {
      "cell_type": "code",
      "source": [
        "import os\n",
        "\n",
        "zipfile_path = os.path.join(\"/\", \"home\")\n",
        "!kaggle datasets download --force -d tawsifurrahman/covid19-radiography-database -p {zipfile_path}"
      ],
      "metadata": {
        "colab": {
          "base_uri": "https://localhost:8080/"
        },
        "id": "WGP9FtaKdLOG",
        "outputId": "83a14cc1-ecab-4c96-e79f-e97618e839b7"
      },
      "execution_count": 4,
      "outputs": [
        {
          "output_type": "stream",
          "name": "stdout",
          "text": [
            "Downloading covid19-radiography-database.zip to /home\n",
            "100% 777M/778M [00:32<00:00, 27.2MB/s]\n",
            "100% 778M/778M [00:33<00:00, 24.7MB/s]\n"
          ]
        }
      ]
    }
  ]
}